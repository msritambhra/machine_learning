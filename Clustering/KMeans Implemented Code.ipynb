{
 "cells": [
  {
   "cell_type": "code",
   "execution_count": 1,
   "metadata": {},
   "outputs": [],
   "source": [
    "import numpy as np\n",
    "import matplotlib.pyplot as plt"
   ]
  },
  {
   "cell_type": "code",
   "execution_count": 2,
   "metadata": {},
   "outputs": [],
   "source": [
    "x = np.array([[1,2],[1.5,1.8],[5,8],[8,8],[1,0.6],[9,11]])"
   ]
  },
  {
   "cell_type": "code",
   "execution_count": 3,
   "metadata": {},
   "outputs": [
    {
     "data": {
      "image/png": "[encoded data removed]",
      "text/plain": [
       "<Figure size 432x288 with 1 Axes>"
      ]
     },
     "metadata": {
      "needs_background": "light"
     },
     "output_type": "display_data"
    }
   ],
   "source": [
    "plt.scatter(x[:,0],x[:,1])\n",
    "plt.title('Raw Data Presentation')\n",
    "plt.xlabel('Feature 1')\n",
    "plt.ylabel('Feature 2')\n",
    "plt.show()"
   ]
  },
  {
   "cell_type": "code",
   "execution_count": 4,
   "metadata": {},
   "outputs": [],
   "source": [
    "class KMeans:\n",
    "    def __init__(self, k=2, n_iter=100):\n",
    "        print('Contructor Called')\n",
    "        self.k = k\n",
    "        self.n_iter = n_iter\n",
    "        \n",
    "    def fit(self, data):\n",
    "        \n",
    "         # Random Initialization of Cluster Centroids\n",
    "        self.means = np.array([data[self.k-i] for i in range(self.k)])\n",
    "        \n",
    "        # Cluster Assignment and Centroid Updation Steps\n",
    "        for i in range(self.n_iter):\n",
    "            \n",
    "            # 1. Assignment of data points to clusters\n",
    "            clusters = []\n",
    "            for j in range(self.k):\n",
    "                clusters.append([])\n",
    "                \n",
    "            for point in data:\n",
    "                # distances will have distance of this data point from all centroids\n",
    "                distances = [((point - m )**2).sum() for m in self.means ]\n",
    "                min_dist = min(distances)\n",
    "                # find mean (centroid) for which we got minimum distance --> \"cluster_assigned\" (let's say)\n",
    "                cluster_assigned = distances.index(min_dist)\n",
    "                # add this point to cluster \"cluster_assigned\"\n",
    "                clusters[cluster_assigned].append(point)\n",
    "            \n",
    "            # 2. Find new centroids\n",
    "            for j in range(self.k):\n",
    "                new_mean = np.average(clusters[j], axis=0)\n",
    "                change = False\n",
    "                if not np.array_equal(self.means[j],new_mean):\n",
    "                    change = True\n",
    "                self.means[j] = new_mean\n",
    "                if not change:\n",
    "                    break\n",
    "                    \n",
    "    def predict(self, data):\n",
    "        predictions = []\n",
    "        for point in data:\n",
    "            distances = [((point-m)**2).sum() for m in self.means]\n",
    "            min_dist = min(distances)\n",
    "            cluster_assigned = distances.index(min_dist)\n",
    "            predictions.append(cluster_assigned)\n",
    "        return predictions"
   ]
  },
  {
   "cell_type": "code",
   "execution_count": 5,
   "metadata": {},
   "outputs": [
    {
     "name": "stdout",
     "output_type": "stream",
     "text": [
      "Contructor Called\n"
     ]
    }
   ],
   "source": [
    "k_means = KMeans(2,10)"
   ]
  },
  {
   "cell_type": "code",
   "execution_count": 6,
   "metadata": {},
   "outputs": [
    {
     "data": {
      "text/plain": [
       "[1, 1, 0, 0, 1, 0]"
      ]
     },
     "execution_count": 6,
     "metadata": {},
     "output_type": "execute_result"
    }
   ],
   "source": [
    "k_means.fit(x)\n",
    "predictions = k_means.predict(x)\n",
    "predictions"
   ]
  },
  {
   "cell_type": "code",
   "execution_count": 7,
   "metadata": {},
   "outputs": [
    {
     "data": {
      "text/plain": [
       "array([[7.33333333, 9.        ],\n",
       "       [1.16666667, 1.46666667]])"
      ]
     },
     "execution_count": 7,
     "metadata": {},
     "output_type": "execute_result"
    }
   ],
   "source": [
    "k_means.means # cluster centres"
   ]
  },
  {
   "cell_type": "code",
   "execution_count": 8,
   "metadata": {},
   "outputs": [
    {
     "data": {
      "image/png": "[encoded data removed]",
      "text/plain": [
       "<Figure size 432x288 with 1 Axes>"
      ]
     },
     "metadata": {
      "needs_background": "light"
     },
     "output_type": "display_data"
    }
   ],
   "source": [
    "plt.scatter(x[:,0], x[:,1], c = predictions)\n",
    "plt.scatter(k_means.means[:,0],k_means.means[:,1], marker='x', label = 'Cluster Centroid')\n",
    "plt.title('Segmented Data')\n",
    "plt.xlabel('Feature 1')\n",
    "plt.ylabel('Feature 2')\n",
    "plt.legend()\n",
    "plt.show()"
   ]
  },
  {
   "cell_type": "code",
   "execution_count": null,
   "metadata": {},
   "outputs": [],
   "source": []
  }
 ],
 "metadata": {
  "kernelspec": {
   "display_name": "Python 3",
   "language": "python",
   "name": "python3"
  },
  "language_info": {
   "codemirror_mode": {
    "name": "ipython",
    "version": 3
   },
   "file_extension": ".py",
   "mimetype": "text/x-python",
   "name": "python",
   "nbconvert_exporter": "python",
   "pygments_lexer": "ipython3",
   "version": "3.8.5"
  }
 },
 "nbformat": 4,
 "nbformat_minor": 4
}

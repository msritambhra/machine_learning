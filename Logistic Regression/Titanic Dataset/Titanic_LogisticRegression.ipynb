{
 "cells": [
  {
   "cell_type": "code",
   "execution_count": 1,
   "metadata": {},
   "outputs": [],
   "source": [
    "import numpy as np\n",
    "import pandas as pd\n",
    "import matplotlib.pyplot as plt\n",
    "from sklearn.linear_model import LogisticRegression\n",
    "import re\n",
    "import seaborn as sns"
   ]
  },
  {
   "cell_type": "code",
   "execution_count": 2,
   "metadata": {},
   "outputs": [],
   "source": [
    "train = pd.read_csv('training_titanic_x_y_train.csv')\n",
    "test = pd.read_csv('test_titanic_x_test.csv')"
   ]
  },
  {
   "cell_type": "code",
   "execution_count": 3,
   "metadata": {},
   "outputs": [
    {
     "data": {
      "text/plain": [
       "Index(['Pclass', 'Name', 'Sex', 'Age', 'SibSp', 'Parch', 'Ticket', 'Fare',\n",
       "       'Cabin', 'Embarked', 'Survived'],\n",
       "      dtype='object')"
      ]
     },
     "execution_count": 3,
     "metadata": {},
     "output_type": "execute_result"
    }
   ],
   "source": [
    "train.columns\n"
   ]
  },
  {
   "cell_type": "code",
   "execution_count": 4,
   "metadata": {},
   "outputs": [],
   "source": [
    "def Ticket(ticket):\n",
    "    if ticket.split(' ')[-1][0]=='L':\n",
    "        return 8\n",
    "    else:\n",
    "        return int(ticket.split(' ')[-1][0])"
   ]
  },
  {
   "cell_type": "code",
   "execution_count": 5,
   "metadata": {},
   "outputs": [],
   "source": [
    "def title(name):\n",
    "    tit = re.search('([A-Za-z]+)\\.',name)\n",
    "    if tit:\n",
    "        return tit.group(1)\n",
    "    return ''\n",
    "        "
   ]
  },
  {
   "cell_type": "code",
   "execution_count": 6,
   "metadata": {},
   "outputs": [],
   "source": [
    "def clean_data(train):\n",
    "    train.drop('Cabin',inplace = True, axis = 1)\n",
    "    #train.drop('Ticket',inplace = True, axis = 1)\n",
    "    \n",
    "    \n",
    "    train['Sex'].replace('female',1,inplace =True)\n",
    "    train['Sex'].replace('male',0,inplace =True)\n",
    "\n",
    "    train['Embarked'].fillna(train.Embarked.mode()[0],inplace = True)\n",
    "        \n",
    "    train['Embarked'].replace('S',0,inplace = True)\n",
    "    train['Embarked'].replace('C',1,inplace = True)\n",
    "    train['Embarked'].replace('Q',2,inplace = True)\n",
    "    \n",
    "    #train['Age'].fillna(train.Age.median(),inplace = True)\n",
    "    train['Age'].fillna(-1,inplace = True)\n",
    "    \n",
    "    \n",
    "    train['Fare_bin'] = pd.cut(train['Fare'], bins = [0,20,40,100,513], labels = ['Low','Median','Average','High'])\n",
    "    \n",
    "    train['FamilySize'] = train['SibSp'] + train['Parch']\n",
    "    \n",
    "    train['Title'] = train['Name'].apply(title)\n",
    "    train['Ticket'] = train['Ticket'].apply(Ticket)\n",
    "    \n",
    "    train['Title'].replace('Mlle','Miss',inplace = True)\n",
    "    train['Title'].replace('Ms','Miss',inplace = True)\n",
    "    train['Title'].replace('Mme','Mr',inplace = True)\n",
    "    \n",
    "    train['Title'].replace(['Rev','Dr','Col','Countess','Lady','Sir','Major','Capt','Don','Jonkheer'],'Rare',inplace = True)\n",
    "    \n",
    "    \n",
    "    train.loc[(train['Age'] == -1) &(train['Title'] == 'Master'), 'Age'] = 4.57\n",
    "    train.loc[(train['Age'] == -1) &(train['Title'] == 'Miss'), 'Age'] = 21.84\n",
    "    train.loc[(train['Age'] == -1) &(train['Title'] == 'Mr'), 'Age'] = 32.36\n",
    "    train.loc[(train['Age'] == -1) &(train['Title'] == 'Mrs'), 'Age'] = 35.78\n",
    "    train.loc[(train['Age'] == -1) &(train['Title'] == 'Rare'), 'Age'] = 45.54\n",
    "    train['Age'] = train['Age'].astype(int)  \n",
    "    \n",
    "    train.loc[ train['Age'] <= 11, 'Age'] = 0\n",
    "    train.loc[(train['Age'] > 11) & (train['Age'] <= 18), 'Age'] = 1\n",
    "    train.loc[(train['Age'] > 18) & (train['Age'] <= 22), 'Age'] = 2\n",
    "    train.loc[(train['Age'] > 22) & (train['Age'] <= 27), 'Age'] = 3\n",
    "    train.loc[(train['Age'] > 27) & (train['Age'] <= 33), 'Age'] = 4\n",
    "    train.loc[(train['Age'] > 33) & (train['Age'] <= 40), 'Age'] = 5\n",
    "    train.loc[(train['Age'] > 40) & (train['Age'] <= 66), 'Age'] = 6\n",
    "    train.loc[ train['Age'] > 66, 'Age'] = 7\n",
    "    \n",
    "   \n",
    "    \n",
    "    train.drop('Fare',inplace = True, axis = 1)\n",
    "    train.drop('Name',inplace = True, axis = 1)\n",
    "    train.drop('SibSp',inplace = True, axis = 1)\n",
    "    train.drop('Parch',inplace = True, axis = 1)\n",
    "    \n",
    "    \n",
    "    train = pd.get_dummies(train,columns = ['Pclass','Sex','Age','Fare_bin','Title','Embarked','Ticket'], prefix =  ['Pclass','Sex','Age','Fare_type','Title','Embarked_from','Ticket'])\n",
    "    \n",
    "    return train\n",
    "   \n",
    "\n",
    "    \n",
    "    "
   ]
  },
  {
   "cell_type": "code",
   "execution_count": 7,
   "metadata": {},
   "outputs": [],
   "source": [
    "train = clean_data(train)\n"
   ]
  },
  {
   "cell_type": "code",
   "execution_count": 8,
   "metadata": {},
   "outputs": [],
   "source": [
    "test = clean_data(test)"
   ]
  },
  {
   "cell_type": "code",
   "execution_count": 9,
   "metadata": {},
   "outputs": [
    {
     "data": {
      "text/plain": [
       "(668, 36)"
      ]
     },
     "execution_count": 9,
     "metadata": {},
     "output_type": "execute_result"
    }
   ],
   "source": [
    "train.shape\n"
   ]
  },
  {
   "cell_type": "code",
   "execution_count": 10,
   "metadata": {},
   "outputs": [
    {
     "data": {
      "text/plain": [
       "(223, 35)"
      ]
     },
     "execution_count": 10,
     "metadata": {},
     "output_type": "execute_result"
    }
   ],
   "source": [
    "test.shape"
   ]
  },
  {
   "cell_type": "code",
   "execution_count": 11,
   "metadata": {},
   "outputs": [],
   "source": [
    "x = train.drop('Survived', axis = 1).values\n",
    "y = train['Survived']"
   ]
  },
  {
   "cell_type": "code",
   "execution_count": 12,
   "metadata": {},
   "outputs": [],
   "source": [
    "clf = LogisticRegression(solver='liblinear',penalty = 'l2' , )"
   ]
  },
  {
   "cell_type": "code",
   "execution_count": 13,
   "metadata": {},
   "outputs": [
    {
     "data": {
      "text/plain": [
       "LogisticRegression(C=1.0, class_weight=None, dual=False, fit_intercept=True,\n",
       "                   intercept_scaling=1, l1_ratio=None, max_iter=100,\n",
       "                   multi_class='auto', n_jobs=None, penalty='l2',\n",
       "                   random_state=None, solver='liblinear', tol=0.0001, verbose=0,\n",
       "                   warm_start=False)"
      ]
     },
     "execution_count": 13,
     "metadata": {},
     "output_type": "execute_result"
    }
   ],
   "source": [
    "clf.fit(x,y)"
   ]
  },
  {
   "cell_type": "code",
   "execution_count": 14,
   "metadata": {},
   "outputs": [
    {
     "data": {
      "text/plain": [
       "0.8368263473053892"
      ]
     },
     "execution_count": 14,
     "metadata": {},
     "output_type": "execute_result"
    }
   ],
   "source": [
    "clf.score(x,y)"
   ]
  },
  {
   "cell_type": "code",
   "execution_count": 15,
   "metadata": {},
   "outputs": [],
   "source": [
    "y_pred =  clf.predict(test)"
   ]
  },
  {
   "cell_type": "code",
   "execution_count": 16,
   "metadata": {},
   "outputs": [
    {
     "data": {
      "text/plain": [
       "array([1, 1, 0, 1, 0, 1, 0, 0, 1, 0, 1, 0, 1, 1, 1, 0, 0, 1, 0, 1, 1, 0,\n",
       "       1, 1, 0, 0, 0, 0, 1, 1, 0, 0, 0, 0, 0, 1, 1, 0, 0, 0, 1, 0, 0, 0,\n",
       "       1, 1, 0, 1, 0, 0, 0, 1, 1, 1, 0, 0, 1, 0, 0, 0, 0, 0, 1, 1, 1, 0,\n",
       "       0, 0, 1, 0, 0, 0, 0, 0, 0, 1, 1, 0, 0, 0, 0, 0, 0, 0, 0, 1, 0, 0,\n",
       "       0, 0, 1, 0, 0, 1, 0, 0, 0, 0, 0, 1, 1, 0, 1, 0, 1, 1, 0, 0, 0, 0,\n",
       "       0, 1, 1, 0, 1, 0, 0, 1, 0, 0, 0, 0, 0, 0, 0, 0, 0, 0, 0, 0, 0, 0,\n",
       "       0, 0, 0, 0, 1, 0, 1, 0, 0, 0, 1, 0, 0, 0, 0, 0, 1, 1, 1, 0, 0, 0,\n",
       "       1, 0, 0, 1, 0, 1, 0, 1, 1, 1, 1, 0, 0, 0, 1, 1, 1, 0, 1, 0, 1, 0,\n",
       "       0, 0, 0, 1, 0, 0, 0, 1, 1, 0, 1, 0, 1, 0, 0, 0, 1, 0, 0, 1, 1, 0,\n",
       "       1, 1, 0, 1, 0, 0, 0, 0, 0, 0, 1, 0, 0, 1, 0, 0, 1, 1, 0, 0, 0, 0,\n",
       "       1, 0, 0], dtype=int64)"
      ]
     },
     "execution_count": 16,
     "metadata": {},
     "output_type": "execute_result"
    }
   ],
   "source": [
    "y_pred"
   ]
  },
  {
   "cell_type": "markdown",
   "metadata": {},
   "source": [
    "np.savetxt('y_pred.csv',y_pred,delimiter=  ',')"
   ]
  },
  {
   "cell_type": "code",
   "execution_count": 17,
   "metadata": {},
   "outputs": [],
   "source": [
    "y_train_pred = clf.predict(x)"
   ]
  },
  {
   "cell_type": "code",
   "execution_count": 18,
   "metadata": {},
   "outputs": [],
   "source": [
    "from sklearn.metrics import confusion_matrix"
   ]
  },
  {
   "cell_type": "code",
   "execution_count": 19,
   "metadata": {},
   "outputs": [
    {
     "data": {
      "text/plain": [
       "array([[358,  41],\n",
       "       [ 68, 201]], dtype=int64)"
      ]
     },
     "execution_count": 19,
     "metadata": {},
     "output_type": "execute_result"
    }
   ],
   "source": [
    "confusion_matrix(y,y_train_pred)"
   ]
  },
  {
   "cell_type": "code",
   "execution_count": null,
   "metadata": {},
   "outputs": [],
   "source": []
  }
 ],
 "metadata": {
  "kernelspec": {
   "display_name": "Python 3",
   "language": "python",
   "name": "python3"
  },
  "language_info": {
   "codemirror_mode": {
    "name": "ipython",
    "version": 3
   },
   "file_extension": ".py",
   "mimetype": "text/x-python",
   "name": "python",
   "nbconvert_exporter": "python",
   "pygments_lexer": "ipython3",
   "version": "3.7.7"
  }
 },
 "nbformat": 4,
 "nbformat_minor": 2
}

{
 "cells": [
  {
   "cell_type": "code",
   "execution_count": 1,
   "metadata": {},
   "outputs": [],
   "source": [
    "import numpy as np\n",
    "from sklearn import datasets\n",
    "import pandas as pd\n",
    "import math\n",
    "from sklearn import preprocessing\n",
    "from sklearn import model_selection\n",
    "import matplotlib.pyplot as plt"
   ]
  },
  {
   "cell_type": "code",
   "execution_count": 2,
   "metadata": {},
   "outputs": [
    {
     "data": {
      "text/plain": [
       "((426, 30), (426,))"
      ]
     },
     "execution_count": 2,
     "metadata": {},
     "output_type": "execute_result"
    }
   ],
   "source": [
    "data = datasets.load_breast_cancer()\n",
    "x_data = data.data\n",
    "y_data = data.target\n",
    "x_train, x_test, y_train, y_test= model_selection.train_test_split(x_data,y_data)\n",
    "x_train.shape,y_train.shape"
   ]
  },
  {
   "cell_type": "code",
   "execution_count": 16,
   "metadata": {},
   "outputs": [],
   "source": [
    "def cost(x, y ,m):\n",
    "    M = len(x)\n",
    "    cost = 0 \n",
    "    for i in range(M):\n",
    "        cost+=np.log(1+np.exp(sum(m*x[i])))-(y[i]*sum(m*x[i]))\n",
    "    #tot_cost = ((1/(M))*(np.log(1+np.exp((m*x).sum()))-y*((m*x).sum(axis = 1).shape))).sum()\n",
    "    return cost\n",
    "    "
   ]
  },
  {
   "cell_type": "code",
   "execution_count": 17,
   "metadata": {},
   "outputs": [],
   "source": [
    "def step_gradient(x , y ,lr, m):\n",
    "    m_slope= np.zeros(shape = x.shape[1]) \n",
    "    M = len(x)\n",
    "    features = x.shape[1]\n",
    "    \n",
    "    for i in range(M):\n",
    "        X = x[i] \n",
    "        Y = y[i]\n",
    "        \n",
    "        for j in range(features):\n",
    "            m_slope[j] += (-1/M)*((Y-(1/(1+np.exp(-1*(X*m).sum())))).sum())*X[j]\n",
    "        \n",
    "    new_m = m - (lr*m_slope)\n",
    "    return new_m\n",
    "        "
   ]
  },
  {
   "cell_type": "code",
   "execution_count": 18,
   "metadata": {},
   "outputs": [],
   "source": [
    "def gd(x,y ,lr,num):\n",
    "    m = np.zeros(len(x[0]))\n",
    "    \n",
    "    for i in range(num):\n",
    "        m = step_gradient(x,y,lr,m)\n",
    "        print(i,\"  Cost:\",cost(x,y,m))\n",
    "        plt.scatter(i,cost(x,y,m))\n",
    "    plt.show()\n",
    "        \n",
    "    return m "
   ]
  },
  {
   "cell_type": "code",
   "execution_count": 24,
   "metadata": {},
   "outputs": [],
   "source": [
    "def run(x_train,y_train,x_test):\n",
    "    \n",
    "    \n",
    "    scaler = preprocessing.StandardScaler()\n",
    "    scaler.fit(x_train)\n",
    "    x = scaler.transform(x_train)\n",
    "    x = np.append(x, np.ones(len(x)).reshape(-1,1), axis = 1)\n",
    "    \n",
    "    \n",
    "    \n",
    "    lr = 0.1\n",
    "    num = 100\n",
    "    print(x_train.shape,y_train.shape)\n",
    "    m = gd(x,y_train,lr,num)\n",
    "    \n",
    "    test1 = scaler.transform(x_test)\n",
    "    x_test = np.append(test1,np.ones(len(test1)).reshape(-1,1), axis = 1)\n",
    "    \n",
    "    \n",
    "    \n",
    "    y_pred = []\n",
    "\n",
    "    \n",
    "    for i in x_test:\n",
    "        if 1/(1+np.exp(-1*(m*i).sum()))<0.5:\n",
    "            y_pred.append(0)\n",
    "        else:\n",
    "            y_pred.append(1)\n",
    "    \n",
    "    return y_pred\n"
   ]
  },
  {
   "cell_type": "code",
   "execution_count": 25,
   "metadata": {},
   "outputs": [
    {
     "name": "stdout",
     "output_type": "stream",
     "text": [
      "(426, 30) (426,)\n",
      "0   Cost: 225.18549369249897\n",
      "1   Cost: 188.98365530909794\n",
      "2   Cost: 166.55923826713286\n",
      "3   Cost: 150.9860028573047\n",
      "4   Cost: 139.3721098770561\n",
      "5   Cost: 130.28164425014245\n",
      "6   Cost: 122.91341128382035\n",
      "7   Cost: 116.78179526846024\n",
      "8   Cost: 111.57361920138491\n",
      "9   Cost: 107.07688581071555\n",
      "10   Cost: 103.14237746010221\n",
      "11   Cost: 99.66162962235042\n",
      "12   Cost: 96.55364004579239\n",
      "13   Cost: 93.75650511035995\n",
      "14   Cost: 91.22196683977074\n",
      "15   Cost: 88.911747993561\n",
      "16   Cost: 86.79502315418726\n",
      "17   Cost: 84.84663288931881\n",
      "18   Cost: 83.04579655627667\n",
      "19   Cost: 81.3751673658786\n",
      "20   Cost: 79.82012714335954\n",
      "21   Cost: 78.36825202055681\n",
      "22   Cost: 77.00890203359367\n",
      "23   Cost: 75.73290189036285\n",
      "24   Cost: 74.53228974961024\n",
      "25   Cost: 73.40011738610019\n",
      "26   Cost: 72.33028964356706\n",
      "27   Cost: 71.31743426036613\n",
      "28   Cost: 70.35679542084095\n",
      "29   Cost: 69.44414602148633\n",
      "30   Cost: 68.57571483473215\n",
      "31   Cost: 67.74812563363461\n",
      "32   Cost: 66.95834599683299\n",
      "33   Cost: 66.20364400678002\n",
      "34   Cost: 65.48155142918435\n",
      "35   Cost: 64.78983224891776\n",
      "36   Cost: 64.12645565971124\n",
      "37   Cost: 63.48957277802467\n",
      "38   Cost: 62.87749648740653\n",
      "39   Cost: 62.2886839272265\n",
      "40   Cost: 61.72172122539841\n",
      "41   Cost: 61.17531014350028\n",
      "42   Cost: 60.64825635825581\n",
      "43   Cost: 60.13945914847097\n",
      "44   Cost: 59.64790229339656\n",
      "45   Cost: 59.17264601878154\n",
      "46   Cost: 58.71281985188671\n",
      "47   Cost: 58.26761626747695\n",
      "48   Cost: 57.83628502409204\n",
      "49   Cost: 57.41812810436062\n",
      "50   Cost: 57.012495185270346\n",
      "51   Cost: 56.618779574552455\n",
      "52   Cost: 56.236414558005514\n",
      "53   Cost: 55.864870109947354\n",
      "54   Cost: 55.50364992524718\n",
      "55   Cost: 55.15228873675386\n",
      "56   Cost: 54.81034988651608\n",
      "57   Cost: 54.477423123141975\n",
      "58   Cost: 54.15312260103612\n",
      "59   Cost: 53.83708506018872\n",
      "60   Cost: 53.52896816773191\n",
      "61   Cost: 53.22844900467954\n",
      "62   Cost: 52.935222683187106\n",
      "63   Cost: 52.6490010813381\n",
      "64   Cost: 52.36951168392251\n",
      "65   Cost: 52.09649651895088\n",
      "66   Cost: 51.829711180769415\n",
      "67   Cost: 51.56892393162337\n",
      "68   Cost: 51.313914874385596\n",
      "69   Cost: 51.064475189928736\n",
      "70   Cost: 50.8204064332971\n",
      "71   Cost: 50.58151988342992\n",
      "72   Cost: 50.347635941718806\n",
      "73   Cost: 50.11858357515099\n",
      "74   Cost: 49.89419980020894\n",
      "75   Cost: 49.674329204069394\n",
      "76   Cost: 49.458823499975566\n",
      "77   Cost: 49.247541113954874\n",
      "78   Cost: 49.04034680031702\n",
      "79   Cost: 48.8371112836086\n",
      "80   Cost: 48.637710924909214\n",
      "81   Cost: 48.442027410548384\n",
      "82   Cost: 48.249947461493946\n",
      "83   Cost: 48.0613625618157\n",
      "84   Cost: 47.87616870477037\n",
      "85   Cost: 47.69426615517925\n",
      "86   Cost: 47.51555922687991\n",
      "87   Cost: 47.33995607414337\n",
      "88   Cost: 47.16736849603495\n",
      "89   Cost: 46.99771175278411\n",
      "90   Cost: 46.83090439330651\n",
      "91   Cost: 46.666868093088496\n",
      "92   Cost: 46.5055275017096\n",
      "93   Cost: 46.346810099335\n",
      "94   Cost: 46.190646061564436\n",
      "95   Cost: 46.03696813206834\n",
      "96   Cost: 45.88571150248993\n",
      "97   Cost: 45.73681369912997\n",
      "98   Cost: 45.590214475965816\n",
      "99   Cost: 45.445855713593176\n"
     ]
    },
    {
     "data": {
      "image/png": "[encoded data removed]",
      "text/plain": [
       "<Figure size 432x288 with 1 Axes>"
      ]
     },
     "metadata": {
      "needs_background": "light"
     },
     "output_type": "display_data"
    }
   ],
   "source": [
    "y_pred = run(x_train,y_train,x_test)"
   ]
  },
  {
   "cell_type": "code",
   "execution_count": null,
   "metadata": {},
   "outputs": [],
   "source": []
  },
  {
   "cell_type": "code",
   "execution_count": null,
   "metadata": {},
   "outputs": [],
   "source": []
  },
  {
   "cell_type": "code",
   "execution_count": null,
   "metadata": {},
   "outputs": [],
   "source": []
  },
  {
   "cell_type": "code",
   "execution_count": null,
   "metadata": {},
   "outputs": [],
   "source": []
  },
  {
   "cell_type": "code",
   "execution_count": null,
   "metadata": {},
   "outputs": [],
   "source": []
  }
 ],
 "metadata": {
  "kernelspec": {
   "display_name": "Python 3",
   "language": "python",
   "name": "python3"
  },
  "language_info": {
   "codemirror_mode": {
    "name": "ipython",
    "version": 3
   },
   "file_extension": ".py",
   "mimetype": "text/x-python",
   "name": "python",
   "nbconvert_exporter": "python",
   "pygments_lexer": "ipython3",
   "version": "3.7.7"
  }
 },
 "nbformat": 4,
 "nbformat_minor": 2
}

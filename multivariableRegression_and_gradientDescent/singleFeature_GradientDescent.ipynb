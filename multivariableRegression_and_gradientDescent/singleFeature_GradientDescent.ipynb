{
 "cells": [
  {
   "cell_type": "code",
   "execution_count": 1,
   "metadata": {},
   "outputs": [],
   "source": [
    "import numpy as np"
   ]
  },
  {
   "cell_type": "code",
   "execution_count": 2,
   "metadata": {},
   "outputs": [],
   "source": [
    "data = np.loadtxt('data.csv', delimiter = ',')"
   ]
  },
  {
   "cell_type": "code",
   "execution_count": 3,
   "metadata": {},
   "outputs": [],
   "source": [
    "def cost(points, m ,c ):\n",
    "    M = len(points)\n",
    "    x = points[:,0]\n",
    "    y= points[:,1]\n",
    "    tot_cost = ((1/(2*M))*((y-m*x-c)**2)).sum()\n",
    "    return tot_cost"
   ]
  },
  {
   "cell_type": "code",
   "execution_count": 4,
   "metadata": {},
   "outputs": [],
   "source": [
    "def step_gradient(points, lr, m , c):\n",
    "    m_slope= 0 \n",
    "    c_slope = 0 \n",
    "    \n",
    "    M = len(points)\n",
    "    for i in range(M):\n",
    "        x = points[i,0]\n",
    "        y = points[i,1]\n",
    "        m_slope += (-1/M)*(y-m*x-c)*x\n",
    "        c_slope += (-1/M)*(y-m*x-c)\n",
    "        \n",
    "    new_m = m - lr*m_slope\n",
    "    new_c = c - lr*c_slope\n",
    "\n",
    "    return new_m,new_c\n",
    "    "
   ]
  },
  {
   "cell_type": "code",
   "execution_count": 5,
   "metadata": {},
   "outputs": [],
   "source": [
    "def gd(points, lr, num):\n",
    "    m = 0 \n",
    "    c = 0 \n",
    "    for i in range(num):\n",
    "        m,c = step_gradient(points,lr, m, c)\n",
    "        print(i, \"Cost: \" ,cost(points,m,c))\n",
    "    return m,c"
   ]
  },
  {
   "cell_type": "code",
   "execution_count": 22,
   "metadata": {},
   "outputs": [],
   "source": [
    "def run():\n",
    "    data = np.loadtxt('data.csv', delimiter = ',')\n",
    "    learning_rate = 0.0005\n",
    "    num_iterations = 40\n",
    "    m,c = gd(data,learning_rate,num_iterations)\n",
    "    return m,c\n",
    "\n",
    "    "
   ]
  },
  {
   "cell_type": "code",
   "execution_count": 29,
   "metadata": {},
   "outputs": [
    {
     "name": "stdout",
     "output_type": "stream",
     "text": [
      "0 Cost:  221.25440298737703\n",
      "1 Cost:  66.30298777489568\n",
      "2 Cost:  56.928823203615394\n",
      "3 Cost:  56.361670351175775\n",
      "4 Cost:  56.32731678772623\n",
      "5 Cost:  56.32519607517513\n",
      "6 Cost:  56.32502536049346\n",
      "7 Cost:  56.32497261676567\n",
      "8 Cost:  56.32492701154746\n",
      "9 Cost:  56.32488183978954\n",
      "10 Cost:  56.32483669585532\n",
      "11 Cost:  56.32479155520489\n",
      "12 Cost:  56.32474641635357\n",
      "13 Cost:  56.32470127921152\n",
      "14 Cost:  56.32465614377321\n",
      "15 Cost:  56.324611010038254\n",
      "16 Cost:  56.32456587800658\n",
      "17 Cost:  56.324520747678115\n",
      "18 Cost:  56.32447561905281\n",
      "19 Cost:  56.32443049213056\n",
      "20 Cost:  56.324385366911336\n",
      "21 Cost:  56.32434024339506\n",
      "22 Cost:  56.32429512158168\n",
      "23 Cost:  56.32425000147112\n",
      "24 Cost:  56.32420488306332\n",
      "25 Cost:  56.32415976635821\n",
      "26 Cost:  56.324114651355735\n",
      "27 Cost:  56.32406953805582\n",
      "28 Cost:  56.32402442645842\n",
      "29 Cost:  56.32397931656343\n",
      "30 Cost:  56.32393420837085\n",
      "31 Cost:  56.323889101880546\n",
      "32 Cost:  56.32384399709252\n",
      "33 Cost:  56.32379889400664\n",
      "34 Cost:  56.3237537926229\n",
      "35 Cost:  56.32370869294121\n",
      "36 Cost:  56.323663594961495\n",
      "37 Cost:  56.323618498683715\n",
      "38 Cost:  56.323573404107805\n",
      "39 Cost:  56.32352831123367\n"
     ]
    }
   ],
   "source": [
    "m,c = run()"
   ]
  },
  {
   "cell_type": "code",
   "execution_count": 38,
   "metadata": {},
   "outputs": [
    {
     "name": "stdout",
     "output_type": "stream",
     "text": [
      "1.4788027168627054 0.035075004585769676\n"
     ]
    }
   ],
   "source": [
    "print(m,c)"
   ]
  },
  {
   "cell_type": "code",
   "execution_count": null,
   "metadata": {},
   "outputs": [],
   "source": []
  }
 ],
 "metadata": {
  "kernelspec": {
   "display_name": "Python 3",
   "language": "python",
   "name": "python3"
  },
  "language_info": {
   "codemirror_mode": {
    "name": "ipython",
    "version": 3
   },
   "file_extension": ".py",
   "mimetype": "text/x-python",
   "name": "python",
   "nbconvert_exporter": "python",
   "pygments_lexer": "ipython3",
   "version": "3.7.7"
  }
 },
 "nbformat": 4,
 "nbformat_minor": 2
}

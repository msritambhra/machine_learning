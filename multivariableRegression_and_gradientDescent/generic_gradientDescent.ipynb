{
 "cells": [
  {
   "cell_type": "code",
   "execution_count": 1,
   "metadata": {},
   "outputs": [],
   "source": [
    "import numpy as np\n",
    "import pandas as pd\n",
    "import matplotlib.pyplot as plt"
   ]
  },
  {
   "cell_type": "code",
   "execution_count": 2,
   "metadata": {},
   "outputs": [],
   "source": [
    "data = np.loadtxt('data.csv', delimiter = ',')\n",
    "data = pd.DataFrame(data)\n",
    "\n",
    "data[2] = data[1]\n",
    "data[1] = data[0]**2\n",
    "data[3] = data[2]\n",
    "data[2] = 1 # for c\n",
    "\n"
   ]
  },
  {
   "cell_type": "code",
   "execution_count": 3,
   "metadata": {},
   "outputs": [
    {
     "data": {
      "text/plain": [
       "(100, 4)"
      ]
     },
     "execution_count": 3,
     "metadata": {},
     "output_type": "execute_result"
    }
   ],
   "source": [
    "data = data.values\n",
    "data.shape"
   ]
  },
  {
   "cell_type": "code",
   "execution_count": 4,
   "metadata": {},
   "outputs": [],
   "source": [
    "def cost(points, m ):\n",
    "    M = len(points)\n",
    "    x =  points[:,:-1]\n",
    "    y= points[:,-1]\n",
    "    tot_cost = ((1/(2*M))*((y-(m*x).sum())**2)).sum()\n",
    "    return tot_cost\n",
    "\n",
    "\n",
    "\n",
    "def step_gradient(points, lr, m):\n",
    "    m_slope= np.zeros(shape = points[:,:-1].shape[1]) \n",
    "    \n",
    "    features = points [:,:-1].shape[1]\n",
    "    M = len(points)\n",
    "    for i in range(M):\n",
    "        x = points[i,:-1]\n",
    "        y = points[i,-1]\n",
    "        \n",
    "        for j in range(features):\n",
    "            m_slope[j] += (-1/M)*(y-((m*x).sum()))*x[j]\n",
    "\n",
    "    new_m = m - lr*m_slope\n",
    "    return new_m\n",
    "    \n",
    "\n",
    "    \n",
    "def gd(points, lr , num):\n",
    "    m = np.zeros(shape = points[:,:-1].shape[1])\n",
    "    \n",
    "    for i in range(num):\n",
    "        m = step_gradient(points, lr , m )\n",
    "        #print(i, \"Cost: \", cost(points,m))\n",
    "        plt.scatter(i,cost(points,m))\n",
    "    plt.xlabel('Number of Features')\n",
    "    plt.ylabel('Cost Function Value')\n",
    "    plt.show()\n",
    "    \n",
    "    return m\n",
    "\n",
    "\n",
    "    \n",
    "   \n",
    "    "
   ]
  },
  {
   "cell_type": "code",
   "execution_count": 5,
   "metadata": {},
   "outputs": [
    {
     "data": {
      "image/png": "[encoded data removed]",
      "text/plain": [
       "<Figure size 432x288 with 1 Axes>"
      ]
     },
     "metadata": {
      "needs_background": "light"
     },
     "output_type": "display_data"
    }
   ],
   "source": [
    "lr = 0.00000000001\n",
    "num = 152\n",
    "m = gd(data, lr, num)"
   ]
  },
  {
   "cell_type": "code",
   "execution_count": null,
   "metadata": {},
   "outputs": [],
   "source": []
  },
  {
   "cell_type": "code",
   "execution_count": null,
   "metadata": {},
   "outputs": [],
   "source": []
  },
  {
   "cell_type": "code",
   "execution_count": null,
   "metadata": {},
   "outputs": [],
   "source": []
  },
  {
   "cell_type": "code",
   "execution_count": null,
   "metadata": {},
   "outputs": [],
   "source": []
  },
  {
   "cell_type": "code",
   "execution_count": null,
   "metadata": {},
   "outputs": [],
   "source": []
  },
  {
   "cell_type": "code",
   "execution_count": null,
   "metadata": {},
   "outputs": [],
   "source": []
  },
  {
   "cell_type": "code",
   "execution_count": null,
   "metadata": {},
   "outputs": [],
   "source": []
  }
 ],
 "metadata": {
  "kernelspec": {
   "display_name": "Python 3",
   "language": "python",
   "name": "python3"
  },
  "language_info": {
   "codemirror_mode": {
    "name": "ipython",
    "version": 3
   },
   "file_extension": ".py",
   "mimetype": "text/x-python",
   "name": "python",
   "nbconvert_exporter": "python",
   "pygments_lexer": "ipython3",
   "version": "3.7.7"
  }
 },
 "nbformat": 4,
 "nbformat_minor": 2
}
